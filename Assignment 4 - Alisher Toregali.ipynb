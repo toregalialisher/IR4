{
 "cells": [
  {
   "cell_type": "code",
   "execution_count": 179,
   "id": "e73ebeac",
   "metadata": {},
   "outputs": [],
   "source": [
    "%config IPCompleter.greedy=True\n",
    "import re\n",
    "import json\n",
    "from collections import defaultdict\n",
    "from tqdm import tqdm_notebook as tqdm\n",
    "from elasticsearch import Elasticsearch\n",
    "from elasticsearch.helpers import parallel_bulk\n",
    "from elasticsearch.helpers import bulk\n",
    "from sklearn.feature_extraction.text import CountVectorizer\n",
    "import requests\n",
    "from time import time\n",
    "import csv\n",
    "import pandas as pd"
   ]
  },
  {
   "cell_type": "code",
   "execution_count": 2,
   "id": "4fae8e30",
   "metadata": {},
   "outputs": [],
   "source": [
    "es = Elasticsearch(\"http://localhost:9200\")"
   ]
  },
  {
   "cell_type": "code",
   "execution_count": 180,
   "id": "a30c9c38",
   "metadata": {},
   "outputs": [
    {
     "data": {
      "text/plain": [
       "ObjectApiResponse({'name': 'instance-0000000001', 'cluster_name': 'de1af5a361be43fe890a6d4bdb14b602', 'cluster_uuid': 'mhcP4wFJTz-cmQenNPcqag', 'version': {'number': '8.6.2', 'build_flavor': 'default', 'build_type': 'docker', 'build_hash': '2d58d0f136141f03239816a4e360a8d17b6d8f29', 'build_date': '2023-02-13T09:35:20.314882762Z', 'build_snapshot': False, 'lucene_version': '9.4.2', 'minimum_wire_compatibility_version': '7.17.0', 'minimum_index_compatibility_version': '7.0.0'}, 'tagline': 'You Know, for Search'})"
      ]
     },
     "execution_count": 180,
     "metadata": {},
     "output_type": "execute_result"
    }
   ],
   "source": [
    "from elasticsearch import Elasticsearch\n",
    "\n",
    "CLOUD_ID = 'IR_2_search:dXMtY2VudHJhbDEuZ2NwLmNsb3VkLmVzLmlvOjQ0MyRkZTFhZjVhMzYxYmU0M2ZlODkwYTZkNGJkYjE0YjYwMiQ4Y2U3NWNkZWMyOTU0NWYzYjBmZDM5ZWM5MDgyNTgwZg=='\n",
    "\n",
    "ELASTIC_PASSWORD = 'EW3FiZs3r32l9yYhvwWklUVN'\n",
    "\n",
    "es = Elasticsearch(\n",
    "    cloud_id = CLOUD_ID,\n",
    "    basic_auth=('elastic', ELASTIC_PASSWORD)\n",
    ")\n",
    "\n",
    "# Successful response!\n",
    "es.info()\n",
    "# {'name': 'instance-0000000000', 'cluster_name': ...}"
   ]
  },
  {
   "cell_type": "code",
   "execution_count": 182,
   "id": "ed1fdffa",
   "metadata": {},
   "outputs": [
    {
     "data": {
      "text/plain": [
       "ObjectApiResponse({'acknowledged': True, 'shards_acknowledged': True, 'index': 'words'})"
      ]
     },
     "execution_count": 182,
     "metadata": {},
     "output_type": "execute_result"
    }
   ],
   "source": [
    "es.indices.create(index='words')"
   ]
  },
  {
   "cell_type": "code",
   "execution_count": 181,
   "id": "517d53cd",
   "metadata": {},
   "outputs": [
    {
     "data": {
      "text/plain": [
       "ObjectApiResponse({'acknowledged': True})"
      ]
     },
     "execution_count": 181,
     "metadata": {},
     "output_type": "execute_result"
    }
   ],
   "source": [
    "es.indices.delete(index='words')"
   ]
  },
  {
   "cell_type": "code",
   "execution_count": 183,
   "id": "f209cc7f",
   "metadata": {},
   "outputs": [],
   "source": [
    "def recreate_index_stem():\n",
    "    es.indices.delete(index='words')\n",
    "    es.indices.create(index='words', body = settings_stem)"
   ]
  },
  {
   "cell_type": "code",
   "execution_count": 184,
   "id": "f5534c77",
   "metadata": {},
   "outputs": [],
   "source": [
    "def recreate_index_nostem():\n",
    "    es.indices.delete(index='words')\n",
    "    es.indices.create(index='words', body = settings_nostem)"
   ]
  },
  {
   "cell_type": "code",
   "execution_count": 185,
   "id": "3e0843af",
   "metadata": {},
   "outputs": [],
   "source": [
    "def check_analyzer(analyzer, text):\n",
    "    body = analyzer\n",
    "    body['text'] = text\n",
    "    \n",
    "    tokens = es.indices.analyze(index='words', body=body)['tokens']\n",
    "    tokens = [token_info['token'] for token_info in tokens]\n",
    "    return tokens"
   ]
  },
  {
   "cell_type": "code",
   "execution_count": 186,
   "id": "867c36b9",
   "metadata": {},
   "outputs": [],
   "source": [
    "settings_stem = {\n",
    "    'mappings': {\n",
    "        'properties': {\n",
    "            'id_right': {\n",
    "                'type': 'integer'\n",
    "            },\n",
    "            'text_right': {\n",
    "                'type': 'text',\n",
    "                'fields': {\n",
    "                    'analyze':{\n",
    "                        'type': 'text',\n",
    "                        'analyzer': 'my_analyzer'\n",
    "                    }\n",
    "                }\n",
    "            }\n",
    "        }\n",
    "    },\n",
    "    'settings': {\n",
    "        'analysis': {\n",
    "            'analyzer': {\n",
    "                'my_analyzer':{\n",
    "                    'type': 'custom',\n",
    "                    'tokenizer': 'white_20',\n",
    "                    'filter': [\n",
    "                        'lowercase',\n",
    "                        'english_snow'\n",
    "                    ]\n",
    "                }\n",
    "            },\n",
    "            'tokenizer': {\n",
    "                'white_20': {\n",
    "                    'type': 'whitespace',\n",
    "                }\n",
    "            },\n",
    "            'filter': {\n",
    "                'english_snow':{\n",
    "                    'type': 'snowball',\n",
    "                    'language': 'english'\n",
    "                }\n",
    "            }\n",
    "        }\n",
    "    }\n",
    "    \n",
    "}"
   ]
  },
  {
   "cell_type": "code",
   "execution_count": 187,
   "id": "fa6f23d0",
   "metadata": {},
   "outputs": [],
   "source": [
    "settings_nostem = {\n",
    "    'mappings': {\n",
    "        'properties': {\n",
    "            'id_right': {\n",
    "                'type': 'integer'\n",
    "            },\n",
    "            'text_right': {\n",
    "                'type': 'text',\n",
    "                'fields': {\n",
    "                    'analyze':{\n",
    "                        'type': 'text',\n",
    "                        'analyzer': 'my_analyzer'\n",
    "                    }\n",
    "                }\n",
    "            },\n",
    "        }\n",
    "    },\n",
    "    'settings': {\n",
    "        'analysis': {\n",
    "            'analyzer': {\n",
    "                'my_analyzer':{\n",
    "                    'tokenizer': 'white_20',\n",
    "                    'filter': [\n",
    "                        'lowercase',\n",
    "                    ]\n",
    "                }\n",
    "            },\n",
    "            'tokenizer': {\n",
    "                'white_20': {\n",
    "                    'type': 'whitespace',\n",
    "                }\n",
    "            },\n",
    "        }\n",
    "    }\n",
    "}"
   ]
  },
  {
   "cell_type": "code",
   "execution_count": 188,
   "id": "c0814910",
   "metadata": {},
   "outputs": [],
   "source": [
    "stemming_state = 0"
   ]
  },
  {
   "cell_type": "code",
   "execution_count": 189,
   "id": "6c3c3169",
   "metadata": {},
   "outputs": [
    {
     "name": "stderr",
     "output_type": "stream",
     "text": [
      "C:\\Users\\Admin\\AppData\\Local\\Temp\\ipykernel_17400\\2148422484.py:3: DeprecationWarning: The 'body' parameter is deprecated and will be removed in a future version. Instead use individual parameters.\n",
      "  es.indices.create(index='words', body = settings_nostem)\n"
     ]
    }
   ],
   "source": [
    "if stemming_state == 0:\n",
    "    recreate_index_nostem()\n",
    "elif stemming_state == 1:\n",
    "    recreate_index_stem()"
   ]
  },
  {
   "cell_type": "code",
   "execution_count": 190,
   "id": "9796365c",
   "metadata": {},
   "outputs": [],
   "source": [
    "df = pd.read_csv('documents.csv')\n",
    "data = df.to_dict('records')"
   ]
  },
  {
   "cell_type": "code",
   "execution_count": 191,
   "id": "b627d48e",
   "metadata": {},
   "outputs": [],
   "source": [
    "def create_es_action(index, doc_id, document):\n",
    "    return {\n",
    "        '_index': index,\n",
    "        '_id': doc_id,\n",
    "        '_source': document\n",
    "    }\n",
    "\n",
    "def es_actions_generator():\n",
    "    for doc in data:\n",
    "        yield create_es_action('words', doc['id_right'], doc)"
   ]
  },
  {
   "cell_type": "code",
   "execution_count": 192,
   "id": "93f08cbd",
   "metadata": {},
   "outputs": [],
   "source": [
    "for ok, result in parallel_bulk(es, es_actions_generator(), queue_size=4, thread_count=4, chunk_size=1000,request_timeout = 30):\n",
    "    if not ok:\n",
    "        print(result)"
   ]
  },
  {
   "cell_type": "code",
   "execution_count": 193,
   "id": "99bf8822",
   "metadata": {},
   "outputs": [],
   "source": [
    "def search(query, *args):\n",
    "    pretty_print_result(es.search(index='words', body=query, size=20), args)\n",
    "    # note that size set to 20 just because default value is 10 and we know that we have 12 docs and 10 < 12 < 20\n",
    "                        \n",
    "def pretty_print_result(search_result, fields=[]):\n",
    "    # fields is a list of fields names which we want to be printed\n",
    "    res = search_result['hits']\n",
    "    print(f'Total documents: {res[\"total\"][\"value\"]}')\n",
    "    for hit in res['hits']:\n",
    "        print(f'Doc {hit[\"_id\"]}, score is {hit[\"_score\"]}')\n",
    "        for field in fields:\n",
    "            print(f'{field}: {hit[\"_source\"][field]}')\n",
    "                  \n",
    "def get_doc_by_id(doc_id):\n",
    "    return es.get(index='words', id=doc_id)['_source']"
   ]
  },
  {
   "cell_type": "code",
   "execution_count": 194,
   "id": "ae45c7d4",
   "metadata": {},
   "outputs": [
    {
     "name": "stderr",
     "output_type": "stream",
     "text": [
      "C:\\Users\\Admin\\AppData\\Local\\Temp\\ipykernel_17400\\3128239079.py:2: DeprecationWarning: The 'body' parameter is deprecated and will be removed in a future version. Instead use individual parameters.\n",
      "  pretty_print_result(es.search(index='words', body=query, size=20), args)\n"
     ]
    },
    {
     "name": "stdout",
     "output_type": "stream",
     "text": [
      "Total documents: 10000\n",
      "Doc 2085880, score is 1.0\n",
      "Doc 1122599, score is 1.0\n",
      "Doc 326045, score is 1.0\n",
      "Doc 1441638, score is 1.0\n",
      "Doc 1534400, score is 1.0\n",
      "Doc 2348936, score is 1.0\n",
      "Doc 606133, score is 1.0\n",
      "Doc 244133, score is 1.0\n",
      "Doc 222337, score is 1.0\n",
      "Doc 1874211, score is 1.0\n",
      "Doc 1123710, score is 1.0\n",
      "Doc 1849474, score is 1.0\n",
      "Doc 1422848, score is 1.0\n",
      "Doc 2215766, score is 1.0\n",
      "Doc 2195263, score is 1.0\n",
      "Doc 588728, score is 1.0\n",
      "Doc 1560615, score is 1.0\n",
      "Doc 1440561, score is 1.0\n",
      "Doc 2110008, score is 1.0\n",
      "Doc 1193180, score is 1.0\n"
     ]
    }
   ],
   "source": [
    "query = {\n",
    "    'query': {\n",
    "        'match_all': {}\n",
    "    }\n",
    "}\n",
    "\n",
    "search(query)"
   ]
  },
  {
   "cell_type": "code",
   "execution_count": 195,
   "id": "28549308",
   "metadata": {},
   "outputs": [],
   "source": [
    "text = 'the final round was held in rio de janeiro brazil the following is the brazilian roster in the 2008 fivb volleyball world league the following is the roster in the 2008 fivb volleyball world league the following is the roster in the 2008 fivb volleyball world league the following is the roster in the 2008 fivb volleyball world league the following is the roster in the 2008 fivb volleyball world league the following is the roster in the 2008 fivb volleyball world league the following is the roster in the 2008 fivb volleyball world league the following is the roster in the 2008 fivb volleyball world league the following is the roster in the 2008 fivb volleyball world league the following is the roster in the 2008 fivb volleyball world league the following is the roster in the 2008 fivb volleyball world league the following is the roster in the 2008 fivb volleyball world league the following is the roster in the 2008 fivb volleyball world league the following is the roster in the 2008 fivb volleyball world league the following is the roster in the 2008 fivb volleyball world league the following is the roster in the 2008 fivb'"
   ]
  },
  {
   "cell_type": "code",
   "execution_count": 196,
   "id": "4a224fa3",
   "metadata": {},
   "outputs": [
    {
     "name": "stderr",
     "output_type": "stream",
     "text": [
      "C:\\Users\\Admin\\AppData\\Local\\Temp\\ipykernel_17400\\2247034190.py:5: DeprecationWarning: The 'body' parameter is deprecated and will be removed in a future version. Instead use individual parameters.\n",
      "  tokens = es.indices.analyze(index='words', body=body)['tokens']\n"
     ]
    },
    {
     "data": {
      "text/plain": [
       "['the',\n",
       " 'final',\n",
       " 'round',\n",
       " 'was',\n",
       " 'held',\n",
       " 'in',\n",
       " 'rio',\n",
       " 'de',\n",
       " 'janeiro',\n",
       " 'brazil',\n",
       " 'the',\n",
       " 'following',\n",
       " 'is',\n",
       " 'the',\n",
       " 'brazilian',\n",
       " 'roster',\n",
       " 'in',\n",
       " 'the',\n",
       " '2008',\n",
       " 'fivb',\n",
       " 'volleyball',\n",
       " 'world',\n",
       " 'league',\n",
       " 'the',\n",
       " 'following',\n",
       " 'is',\n",
       " 'the',\n",
       " 'roster',\n",
       " 'in',\n",
       " 'the',\n",
       " '2008',\n",
       " 'fivb',\n",
       " 'volleyball',\n",
       " 'world',\n",
       " 'league',\n",
       " 'the',\n",
       " 'following',\n",
       " 'is',\n",
       " 'the',\n",
       " 'roster',\n",
       " 'in',\n",
       " 'the',\n",
       " '2008',\n",
       " 'fivb',\n",
       " 'volleyball',\n",
       " 'world',\n",
       " 'league',\n",
       " 'the',\n",
       " 'following',\n",
       " 'is',\n",
       " 'the',\n",
       " 'roster',\n",
       " 'in',\n",
       " 'the',\n",
       " '2008',\n",
       " 'fivb',\n",
       " 'volleyball',\n",
       " 'world',\n",
       " 'league',\n",
       " 'the',\n",
       " 'following',\n",
       " 'is',\n",
       " 'the',\n",
       " 'roster',\n",
       " 'in',\n",
       " 'the',\n",
       " '2008',\n",
       " 'fivb',\n",
       " 'volleyball',\n",
       " 'world',\n",
       " 'league',\n",
       " 'the',\n",
       " 'following',\n",
       " 'is',\n",
       " 'the',\n",
       " 'roster',\n",
       " 'in',\n",
       " 'the',\n",
       " '2008',\n",
       " 'fivb',\n",
       " 'volleyball',\n",
       " 'world',\n",
       " 'league',\n",
       " 'the',\n",
       " 'following',\n",
       " 'is',\n",
       " 'the',\n",
       " 'roster',\n",
       " 'in',\n",
       " 'the',\n",
       " '2008',\n",
       " 'fivb',\n",
       " 'volleyball',\n",
       " 'world',\n",
       " 'league',\n",
       " 'the',\n",
       " 'following',\n",
       " 'is',\n",
       " 'the',\n",
       " 'roster',\n",
       " 'in',\n",
       " 'the',\n",
       " '2008',\n",
       " 'fivb',\n",
       " 'volleyball',\n",
       " 'world',\n",
       " 'league',\n",
       " 'the',\n",
       " 'following',\n",
       " 'is',\n",
       " 'the',\n",
       " 'roster',\n",
       " 'in',\n",
       " 'the',\n",
       " '2008',\n",
       " 'fivb',\n",
       " 'volleyball',\n",
       " 'world',\n",
       " 'league',\n",
       " 'the',\n",
       " 'following',\n",
       " 'is',\n",
       " 'the',\n",
       " 'roster',\n",
       " 'in',\n",
       " 'the',\n",
       " '2008',\n",
       " 'fivb',\n",
       " 'volleyball',\n",
       " 'world',\n",
       " 'league',\n",
       " 'the',\n",
       " 'following',\n",
       " 'is',\n",
       " 'the',\n",
       " 'roster',\n",
       " 'in',\n",
       " 'the',\n",
       " '2008',\n",
       " 'fivb',\n",
       " 'volleyball',\n",
       " 'world',\n",
       " 'league',\n",
       " 'the',\n",
       " 'following',\n",
       " 'is',\n",
       " 'the',\n",
       " 'roster',\n",
       " 'in',\n",
       " 'the',\n",
       " '2008',\n",
       " 'fivb',\n",
       " 'volleyball',\n",
       " 'world',\n",
       " 'league',\n",
       " 'the',\n",
       " 'following',\n",
       " 'is',\n",
       " 'the',\n",
       " 'roster',\n",
       " 'in',\n",
       " 'the',\n",
       " '2008',\n",
       " 'fivb',\n",
       " 'volleyball',\n",
       " 'world',\n",
       " 'league',\n",
       " 'the',\n",
       " 'following',\n",
       " 'is',\n",
       " 'the',\n",
       " 'roster',\n",
       " 'in',\n",
       " 'the',\n",
       " '2008',\n",
       " 'fivb',\n",
       " 'volleyball',\n",
       " 'world',\n",
       " 'league',\n",
       " 'the',\n",
       " 'following',\n",
       " 'is',\n",
       " 'the',\n",
       " 'roster',\n",
       " 'in',\n",
       " 'the',\n",
       " '2008',\n",
       " 'fivb',\n",
       " 'volleyball',\n",
       " 'world',\n",
       " 'league',\n",
       " 'the',\n",
       " 'following',\n",
       " 'is',\n",
       " 'the',\n",
       " 'roster',\n",
       " 'in',\n",
       " 'the',\n",
       " '2008',\n",
       " 'fivb']"
      ]
     },
     "execution_count": 196,
     "metadata": {},
     "output_type": "execute_result"
    }
   ],
   "source": [
    "analyzer = {\n",
    "    'analyzer': 'my_analyzer'\n",
    "}\n",
    "\n",
    "check_analyzer(analyzer, text)\n"
   ]
  },
  {
   "cell_type": "code",
   "execution_count": 198,
   "id": "ff0c640f",
   "metadata": {
    "scrolled": true
   },
   "outputs": [
    {
     "name": "stderr",
     "output_type": "stream",
     "text": [
      "C:\\Users\\Admin\\AppData\\Local\\Temp\\ipykernel_17400\\3128239079.py:2: DeprecationWarning: The 'body' parameter is deprecated and will be removed in a future version. Instead use individual parameters.\n",
      "  pretty_print_result(es.search(index='words', body=query, size=20), args)\n"
     ]
    },
    {
     "name": "stdout",
     "output_type": "stream",
     "text": [
      "Total documents: 10000\n",
      "Doc 973440, score is 15.704821\n",
      "Doc 4900, score is 15.335167\n",
      "Doc 1439087, score is 14.825996\n",
      "Doc 1322917, score is 14.652464\n",
      "Doc 2064714, score is 14.652464\n",
      "Doc 1445071, score is 14.344378\n",
      "Doc 617105, score is 13.750026\n",
      "Doc 2334631, score is 13.677895\n",
      "Doc 1217601, score is 13.677895\n",
      "Doc 1374404, score is 13.677895\n",
      "Doc 1037110, score is 13.481821\n",
      "Doc 2326221, score is 13.323684\n",
      "Doc 325041, score is 13.323684\n",
      "Doc 347207, score is 13.175156\n",
      "Doc 1961850, score is 12.748814\n",
      "Doc 1227346, score is 12.694827\n",
      "Doc 1879210, score is 12.694827\n",
      "Doc 2292393, score is 12.694827\n",
      "Doc 1858796, score is 12.694827\n",
      "Doc 1945210, score is 12.694827\n",
      "CPU times: total: 46.9 ms\n",
      "Wall time: 252 ms\n"
     ]
    }
   ],
   "source": [
    "%%time\n",
    "\n",
    "query = {\n",
    "    'query': {\n",
    "        'bool': {\n",
    "            'must': {\n",
    "                'match': {\n",
    "                    'text_right': 'great lakes'\n",
    "                }\n",
    "            }\n",
    "        }\n",
    "    }\n",
    "}\n",
    "\n",
    "search(query)"
   ]
  },
  {
   "cell_type": "code",
   "execution_count": 199,
   "id": "f858cd4d",
   "metadata": {},
   "outputs": [],
   "source": [
    "from sentence_transformers import SentenceTransformer, util\n",
    "import torch\n",
    "\n",
    "embedder = SentenceTransformer('sentence-transformers/msmarco-MiniLM-L6-cos-v5')"
   ]
  },
  {
   "cell_type": "code",
   "execution_count": 200,
   "id": "9125cda9",
   "metadata": {},
   "outputs": [
    {
     "name": "stderr",
     "output_type": "stream",
     "text": [
      "C:\\Users\\Admin\\AppData\\Local\\Temp\\ipykernel_17400\\4130854387.py:20: DeprecationWarning: The 'body' parameter is deprecated and will be removed in a future version. Instead use individual parameters.\n",
      "  results = es.search(index = 'words', body = query, size = 20)\n"
     ]
    }
   ],
   "source": [
    "import numpy as np\n",
    "\n",
    "q = pd.read_csv('queries.csv')\n",
    "runs = {}\n",
    "\n",
    "q = q.reset_index()\n",
    "runs = {}\n",
    "for ind, row in q.iterrows():\n",
    "    query = {\n",
    "        'query': {\n",
    "            'bool': {\n",
    "                'must': {\n",
    "                    'match': {\n",
    "                        'text_right': row['text_left']\n",
    "                    }\n",
    "                }\n",
    "            }\n",
    "        }\n",
    "    }\n",
    "    results = es.search(index = 'words', body = query, size = 20)\n",
    "    \n",
    "    indcs = {}\n",
    "    corpus = []\n",
    "\n",
    "    if len(results['hits']['hits']) != 0:\n",
    "        \n",
    "        for i in range(0, len(results['hits']['hits'])):\n",
    "            a = results['hits']['hits'][i]['_source']['text_right']\n",
    "            indcs[i] = results['hits']['hits'][i]['_source']['id_right']\n",
    "            corpus.append(a)\n",
    "\n",
    "        corpus_embeddings = embedder.encode(corpus, convert_to_tensor = True)\n",
    "        query_embedding = embedder.encode(row['text_left'], convert_to_tensor = True)\n",
    "        \n",
    "        hits = util.semantic_search(query_embedding, corpus_embeddings, top_k = 20)\n",
    "        temp = {}\n",
    "\n",
    "        for i in hits[0]:\n",
    "            docid = str(indcs[i['corpus_id']])\n",
    "            temp[docid] = i['score']\n",
    "        runs[str(row['id_left'])] = temp\n",
    "\n",
    "        "
   ]
  },
  {
   "cell_type": "code",
   "execution_count": 201,
   "id": "b23b0687",
   "metadata": {},
   "outputs": [],
   "source": [
    "qrel = pd.read_csv('qrels')\n",
    "\n",
    "qrels = {}\n",
    "i = 0\n",
    "d = {}\n",
    "for j in qrel['158491\\t0\\t158491\\t2']:\n",
    "    if i != 0:\n",
    "        if str(j.split()[0]) != temp:\n",
    "                qrels[temp] = d\n",
    "                d = {}\n",
    "                temp = str(j.split()[0])\n",
    "                d[str(j.split()[2])] = int(j.split()[3])\n",
    "\n",
    "        else:\n",
    "                d[str(j.split()[2])] = int(j.split()[3])\n",
    "\n",
    "    else:\n",
    "            temp = str(j.split()[0])\n",
    "            i = i + 1\n",
    "            d[str(j.split()[2])] = int(j.split()[3])\n",
    "    qrels[temp] = d\n",
    "    \n",
    "qrels['158491']['158491'] = 2"
   ]
  },
  {
   "cell_type": "code",
   "execution_count": 202,
   "id": "0bcd3365",
   "metadata": {},
   "outputs": [
    {
     "name": "stdout",
     "output_type": "stream",
     "text": [
      "{P@20: 0.14750000000000008, P@10: 0.21299999999999994, AP: 0.16544179611007517}\n"
     ]
    }
   ],
   "source": [
    "import ir_measures\n",
    "from ir_measures import *\n",
    "\n",
    "print(ir_measures.calc_aggregate([P(rel=1)@10, P(rel=1)@20, AP], qrels, runs))"
   ]
  },
  {
   "cell_type": "code",
   "execution_count": 177,
   "id": "0dbb41f2",
   "metadata": {},
   "outputs": [],
   "source": [
    "df = pd.read_csv('BM25.res')\n",
    "\n",
    "i = 0\n",
    "d = {}\n",
    "creators_runs = {}\n",
    "\n",
    "for j in df['158491 Q0 625257 0 15.660703104969318 BM25']:\n",
    "    if i != 0:\n",
    "        if str(j.split()[0]) != temp:\n",
    "                creators_runs[temp] = d\n",
    "                d = {}\n",
    "                temp = str(j.split()[0])\n",
    "                d[str(j.split()[2])] = float(j.split()[4])\n",
    "\n",
    "        else:\n",
    "                d[str(j.split()[2])] = float(j.split()[4])\n",
    "\n",
    "    else:\n",
    "            temp = str(j.split()[0])\n",
    "            i = i + 1\n",
    "            d[str(j.split()[2])] = float(j.split()[4])\n",
    "    creators_runs[temp] = d\n",
    "    \n",
    "creators_runs['158491']['625257'] = float(15)"
   ]
  },
  {
   "cell_type": "code",
   "execution_count": 178,
   "id": "e1890003",
   "metadata": {},
   "outputs": [
    {
     "name": "stdout",
     "output_type": "stream",
     "text": [
      "{P@20: 0.09499999999999999, P@10: 0.1319999999999999, AP: 0.11196168401599797}\n"
     ]
    }
   ],
   "source": [
    "print(ir_measures.calc_aggregate([AP, P(rel = 1)@10, P(rel = 1)@20], qrels, creators_runs))"
   ]
  }
 ],
 "metadata": {
  "kernelspec": {
   "display_name": "Python 3 (ipykernel)",
   "language": "python",
   "name": "python3"
  },
  "language_info": {
   "codemirror_mode": {
    "name": "ipython",
    "version": 3
   },
   "file_extension": ".py",
   "mimetype": "text/x-python",
   "name": "python",
   "nbconvert_exporter": "python",
   "pygments_lexer": "ipython3",
   "version": "3.9.13"
  }
 },
 "nbformat": 4,
 "nbformat_minor": 5
}
